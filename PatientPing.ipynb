{
 "cells": [
  {
   "cell_type": "code",
   "execution_count": 1,
   "id": "42a0bc53",
   "metadata": {},
   "outputs": [
    {
     "name": "stderr",
     "output_type": "stream",
     "text": [
      "Enabling notebook extension jupyter-js-widgets/extension...\n",
      "      - Validating: ok\n",
      "Enabling: voila\n",
      "- Writing config: C:\\Users\\gsteele\\Anaconda3\\envs\\GregVenv\\etc\\jupyter\n",
      "    - Validating...\n",
      "      voila 0.2.16 ok\n"
     ]
    }
   ],
   "source": [
    "#!jupyter serverextension enable voila --sys-prefix\n",
    "#!jupyter serverextension enable --sys-prefix voila \n",
    "\n",
    "!jupyter nbextension enable --py widgetsnbextension --sys-prefix\n",
    "!jupyter serverextension enable voila --sys-prefix"
   ]
  },
  {
   "cell_type": "code",
   "execution_count": null,
   "id": "f8a159c7",
   "metadata": {},
   "outputs": [],
   "source": [
    "#conda install -c conda-forge jupyter_nbextensions_configurator"
   ]
  },
  {
   "cell_type": "code",
   "execution_count": null,
   "id": "ea9c7170",
   "metadata": {
    "scrolled": true
   },
   "outputs": [],
   "source": [
    "#conda install -c conda-forge voila"
   ]
  },
  {
   "cell_type": "code",
   "execution_count": null,
   "id": "107b96c5",
   "metadata": {},
   "outputs": [],
   "source": [
    "#conda install -c conda-forge widgetsnbextension"
   ]
  },
  {
   "cell_type": "code",
   "execution_count": null,
   "id": "ed3497c2",
   "metadata": {},
   "outputs": [],
   "source": [
    "#conda install -c conda-forge ipywidgets"
   ]
  },
  {
   "cell_type": "code",
   "execution_count": 2,
   "id": "29311625",
   "metadata": {},
   "outputs": [],
   "source": [
    "import pandas as pd\n",
    "import numpy as mp \n",
    "import bs4 as bs\n",
    "import sqlalchemy\n",
    "import pyodbc as podbc\n",
    "from datetime import datetime"
   ]
  },
  {
   "cell_type": "code",
   "execution_count": 3,
   "id": "e7623b3d",
   "metadata": {},
   "outputs": [],
   "source": [
    "conn = podbc.connect(\n",
    "    Trusted_Connection='Yes',\n",
    "    Driver='{SQL Server}',\n",
    "    Server='dhbisql01',\n",
    "    #UID='',\n",
    "    #PWD='',\n",
    "    Database='SMG'\n",
    ")"
   ]
  },
  {
   "cell_type": "code",
   "execution_count": null,
   "id": "7d666e4f",
   "metadata": {},
   "outputs": [],
   "source": [
    "conn = podbc.connect(\n",
    "    Trusted_Connection='Yes',\n",
    "    Driver='{SQL Server}',\n",
    "    Server='dhbisql01',\n",
    "    #UID='',\n",
    "    #PWD='',\n",
    "    Database='SMG'\n",
    ")\n",
    "data = pd.read_sql(sql = f\"EXEC dbo.PatientPing\",con=conn)\n",
    "\n",
    "csr = conn.cursor()  \n",
    "csr.close()\n",
    "conn.close() \n",
    "\n",
    "data = data.fillna(value = '')\n",
    "filename = f\"SMGNJ - SHACO - Rosters to PatientPing v{str(datetime.today().strftime('%Y-%m-%d')).replace('-','.')}\"\n",
    "data.to_csv(f\"U:\\zSSISDropBoxOut\\PatientPing\\\\{filename}.csv\", index = False)\n"
   ]
  }
 ],
 "metadata": {
  "kernelspec": {
   "display_name": "Python 3 (ipykernel)",
   "language": "python",
   "name": "python3"
  },
  "language_info": {
   "codemirror_mode": {
    "name": "ipython",
    "version": 3
   },
   "file_extension": ".py",
   "mimetype": "text/x-python",
   "name": "python",
   "nbconvert_exporter": "python",
   "pygments_lexer": "ipython3",
   "version": "3.9.7"
  }
 },
 "nbformat": 4,
 "nbformat_minor": 5
}
