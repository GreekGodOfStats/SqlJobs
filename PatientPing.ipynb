{
 "cells": [
  {
   "cell_type": "code",
   "execution_count": 24,
   "id": "5832c5a4",
   "metadata": {},
   "outputs": [],
   "source": [
    "import pandas as pd\n",
    "import numpy as mp \n",
    "import bs4 as bs\n",
    "import sqlalchemy\n",
    "import pyodbc as podbc\n",
    "from datetime import datetime"
   ]
  },
  {
   "cell_type": "code",
   "execution_count": 25,
   "id": "5cba4a51",
   "metadata": {},
   "outputs": [],
   "source": [
    "conn = podbc.connect(\n",
    "    Trusted_Connection='Yes',\n",
    "    Driver='{SQL Server}',\n",
    "    Server='dhbisql01',\n",
    "    #UID='',\n",
    "    #PWD='',\n",
    "    Database='SMG'\n",
    ")\n",
    "data = pd.read_sql(sql = f\"EXEC dbo.PatientPing\",con=conn)\n",
    "data = data.fillna(value = '')\n",
    "filename = f\"SMGNJ - SHACO - Rosters to PatientPing v{str(datetime.today().strftime('%Y-%m-%d')).replace('-','.')}\"\n",
    "data.to_csv(f\"U:\\zSSISDropBoxOut\\PatientPing\\\\{filename}.csv\", index = False)"
   ]
  }
 ],
 "metadata": {
  "kernelspec": {
   "display_name": "Python 3 (ipykernel)",
   "language": "python",
   "name": "python3"
  },
  "language_info": {
   "codemirror_mode": {
    "name": "ipython",
    "version": 3
   },
   "file_extension": ".py",
   "mimetype": "text/x-python",
   "name": "python",
   "nbconvert_exporter": "python",
   "pygments_lexer": "ipython3",
   "version": "3.9.7"
  }
 },
 "nbformat": 4,
 "nbformat_minor": 5
}
